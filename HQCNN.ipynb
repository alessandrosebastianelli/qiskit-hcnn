{
 "cells": [
  {
   "cell_type": "markdown",
   "id": "c89aa63e",
   "metadata": {},
   "source": [
    "# QML4EO-tutorial: Hybrid Quantum Convolutional Neural Network Classifier\n",
    "## This is a qiskit adapted version of https://github.com/alessandrosebastianelli/QML4EO-tutorial/tree/main\n",
    "\n",
    "\n",
    "Please refer to the following articles to get more insight about this topic:\n",
    "\n",
    "- Sebastianelli, A., Zaidenberg, D. A., Spiller, D., Le Saux, B., & Ullo, S. L. (2021). On circuit-based hybrid quantum neural networks for remote sensing imagery classification. IEEE Journal of Selected Topics in Applied Earth Observations and Remote Sensing, 15, 565-580.\n",
    "- Zaidenberg, D. A., Sebastianelli, A., Spiller, D., Le Saux, B., & Ullo, S. L. (2021, July). Advantages and bottlenecks of quantum machine learning for remote sensing. In 2021 IEEE International Geoscience and Remote Sensing Symposium IGARSS (pp. 5680-5683). IEEE.\n",
    "- Eurosat: A novel dataset and deep learning benchmark for land use and land cover classification. Patrick Helber, Benjamin Bischke, Andreas Dengel, Damian Borth. IEEE Journal of Selected Topics in Applied Earth Observations and Remote Sensing, 2019.\n",
    "- Introducing EuroSAT: A Novel Dataset and Deep Learning Benchmark for Land Use and Land Cover Classification. Patrick Helber, Benjamin Bischke, Andreas Dengel. 2018 IEEE International Geoscience and Remote Sensing Symposium, 2018.\n",
    "- https://qiskit.org/documentation/machine-learning/tutorials/index.html\n",
    "- https://pennylane.ai/qml/demos_qml.html"
   ]
  },
  {
   "cell_type": "markdown",
   "id": "fcc3bdb4",
   "metadata": {},
   "source": [
    "# 1. Clone the base code\n",
    "\n",
    "Basic functions are wrapped in seprated files to keep the notebook clean. Feel free to explore the code."
   ]
  },
  {
   "cell_type": "code",
   "execution_count": null,
   "id": "0a7c4209",
   "metadata": {},
   "outputs": [],
   "source": [
    "import sys\n",
    "!rm -r /content/qiskit-hcnn\n",
    "!git clone https://github.com/alessandrosebastianelli/qiskit-hcnn.git\n",
    "if '/content/qiskit-hcnn' not in sys.path: sys.path.append('/content/qiskit-hcnn')"
   ]
  },
  {
   "cell_type": "markdown",
   "id": "f9d28a4e",
   "metadata": {},
   "source": [
    "# 2. Install missing requirements"
   ]
  },
  {
   "cell_type": "code",
   "execution_count": null,
   "id": "c207d5b3",
   "metadata": {},
   "outputs": [],
   "source": [
    "!pip install -r requirements.txt"
   ]
  },
  {
   "cell_type": "markdown",
   "id": "c40ed062",
   "metadata": {},
   "source": [
    "# 3. Download the dataset\n",
    "\n",
    "In this study, we address the challenge of land use and land cover classification using Sentinel-2 satellite images. The Sentinel-2 satellite images are openly and freely accessible provided in the Earth observation program Copernicus. We present a novel dataset based on Sentinel-2 satellite images covering 13 spectral bands and consisting out of 10 classes with in total 27,000 labeled and geo-referenced images. We provide benchmarks for this novel dataset with its spectral bands using state-of-the-art deep Convolutional Neural Network (CNNs). With the proposed novel dataset, we achieved an overall classification accuracy of 98.57%. The resulting classification system opens a gate towards a number of Earth observation applications. We demonstrate how this classification system can be used for detecting land use and land cover changes and how it can assist in improving geographical maps.\n",
    "\n",
    "Get more information [here](https://github.com/phelber/EuroSAT).\n",
    "\n",
    "![](https://github.com/phelber/EuroSAT/blob/master/eurosat_overview_small.jpg?raw=true)"
   ]
  },
  {
   "cell_type": "markdown",
   "id": "5686785e",
   "metadata": {},
   "source": [
    "The following snippet will download the RGB version of EuroSAT and slit it in train/validation/test sub-datasets."
   ]
  },
  {
   "cell_type": "code",
   "execution_count": null,
   "id": "3e18d70e",
   "metadata": {},
   "outputs": [],
   "source": [
    "!bash dowload_data.sh"
   ]
  }
 ],
 "metadata": {
  "kernelspec": {
   "display_name": "torch-gpu",
   "language": "python",
   "name": "python3"
  },
  "language_info": {
   "name": "python",
   "version": "3.11.5"
  }
 },
 "nbformat": 4,
 "nbformat_minor": 5
}
