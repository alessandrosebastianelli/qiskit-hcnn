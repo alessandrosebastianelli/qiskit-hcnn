{
 "cells": [
  {
   "cell_type": "markdown",
   "id": "c89aa63e",
   "metadata": {},
   "source": [
    "# QML4EO-tutorial: Hybrid Quantum Convolutional Neural Network Classifier\n",
    "## This is a qiskit adapted version of https://github.com/alessandrosebastianelli/QML4EO-tutorial/tree/main\n",
    "\n",
    "\n",
    "Please refer to the following articles to get more insight about this topic:\n",
    "\n",
    "- Sebastianelli, A., Zaidenberg, D. A., Spiller, D., Le Saux, B., & Ullo, S. L. (2021). On circuit-based hybrid quantum neural networks for remote sensing imagery classification. IEEE Journal of Selected Topics in Applied Earth Observations and Remote Sensing, 15, 565-580.\n",
    "- Zaidenberg, D. A., Sebastianelli, A., Spiller, D., Le Saux, B., & Ullo, S. L. (2021, July). Advantages and bottlenecks of quantum machine learning for remote sensing. In 2021 IEEE International Geoscience and Remote Sensing Symposium IGARSS (pp. 5680-5683). IEEE.\n",
    "- Eurosat: A novel dataset and deep learning benchmark for land use and land cover classification. Patrick Helber, Benjamin Bischke, Andreas Dengel, Damian Borth. IEEE Journal of Selected Topics in Applied Earth Observations and Remote Sensing, 2019.\n",
    "- Introducing EuroSAT: A Novel Dataset and Deep Learning Benchmark for Land Use and Land Cover Classification. Patrick Helber, Benjamin Bischke, Andreas Dengel. 2018 IEEE International Geoscience and Remote Sensing Symposium, 2018.\n",
    "- https://qiskit.org/documentation/machine-learning/tutorials/index.html\n",
    "- https://pennylane.ai/qml/demos_qml.html"
   ]
  },
  {
   "cell_type": "markdown",
   "id": "fcc3bdb4",
   "metadata": {},
   "source": [
    "# 1. Clone the base code\n",
    "\n",
    "Basic functions are wrapped in seprated files to keep the notebook clean. Feel free to explore the code."
   ]
  },
  {
   "cell_type": "code",
   "execution_count": null,
   "id": "0a7c4209",
   "metadata": {},
   "outputs": [],
   "source": [
    "import sys\n",
    "!rm -r /content/qml4eo_tutorial_qiskit\n",
    "!git clone https://github.com/alessandrosebastianelli/qml4eo_tutorial_qiskit.git\n",
    "if '/content/qml4eo_tutorial_qiskit' not in sys.path: sys.path.append('/content/qml4eo_tutorial_qiskit')"
   ]
  },
  {
   "cell_type": "markdown",
   "id": "f9d28a4e",
   "metadata": {},
   "source": [
    "# 2. Install missing requirements"
   ]
  },
  {
   "cell_type": "markdown",
   "id": "ca813583",
   "metadata": {},
   "source": [
    "AI-related"
   ]
  },
  {
   "cell_type": "code",
   "execution_count": null,
   "id": "c207d5b3",
   "metadata": {},
   "outputs": [],
   "source": [
    "!pip install -r /content/qml4eo_tutorial_qiskit/requirements.txt -q"
   ]
  },
  {
   "cell_type": "markdown",
   "id": "07e7088a",
   "metadata": {},
   "source": [
    "EO-related"
   ]
  },
  {
   "cell_type": "code",
   "execution_count": null,
   "id": "b8c2e3a6",
   "metadata": {},
   "outputs": [],
   "source": [
    "!pip install --upgrade pyosv"
   ]
  },
  {
   "cell_type": "markdown",
   "id": "e8cecbd5",
   "metadata": {},
   "source": [
    "QC-related"
   ]
  },
  {
   "cell_type": "code",
   "execution_count": null,
   "id": "1ef4f35a",
   "metadata": {},
   "outputs": [],
   "source": [
    "!pip install -q 'qiskit>=2.0.0'\n",
    "!pip install -q 'qiskit-machine-learning>=0.7.0'"
   ]
  },
  {
   "cell_type": "markdown",
   "id": "c40ed062",
   "metadata": {},
   "source": [
    "# 3. Download the dataset\n",
    "\n",
    "In this study, we address the challenge of land use and land cover classification using Sentinel-2 satellite images. The Sentinel-2 satellite images are openly and freely accessible provided in the Earth observation program Copernicus. We present a novel dataset based on Sentinel-2 satellite images covering 13 spectral bands and consisting out of 10 classes with in total 27,000 labeled and geo-referenced images. We provide benchmarks for this novel dataset with its spectral bands using state-of-the-art deep Convolutional Neural Network (CNNs). With the proposed novel dataset, we achieved an overall classification accuracy of 98.57%. The resulting classification system opens a gate towards a number of Earth observation applications. We demonstrate how this classification system can be used for detecting land use and land cover changes and how it can assist in improving geographical maps.\n",
    "\n",
    "Get more information [here](https://github.com/phelber/EuroSAT).\n",
    "\n",
    "![](https://github.com/phelber/EuroSAT/blob/master/eurosat_overview_small.jpg?raw=true)"
   ]
  },
  {
   "cell_type": "markdown",
   "id": "5686785e",
   "metadata": {},
   "source": [
    "The following snippet will download the RGB version of EuroSAT and slit it in train/validation/test sub-datasets."
   ]
  },
  {
   "cell_type": "code",
   "execution_count": null,
   "id": "3e18d70e",
   "metadata": {},
   "outputs": [],
   "source": [
    "!bash /content/qml4eo_tutorial_qiskit/dowload_data.sh"
   ]
  }
 ],
 "metadata": {
  "kernelspec": {
   "display_name": "torch-gpu",
   "language": "python",
   "name": "python3"
  },
  "language_info": {
   "name": "python",
   "version": "3.11.5"
  }
 },
 "nbformat": 4,
 "nbformat_minor": 5
}
