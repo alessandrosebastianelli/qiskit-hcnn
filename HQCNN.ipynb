{
 "cells": [
  {
   "cell_type": "markdown",
   "id": "c89aa63e",
   "metadata": {},
   "source": [
    "# QML4EO-tutorial: Hybrid Quantum Convolutional Neural Network Classifier\n",
    "## This is a qiskit adapted version of https://github.com/alessandrosebastianelli/QML4EO-tutorial/tree/main\n",
    "\n",
    "\n",
    "Please refer to the following articles to get more insight about this topic:\n",
    "\n",
    "- Sebastianelli, A., Zaidenberg, D. A., Spiller, D., Le Saux, B., & Ullo, S. L. (2021). On circuit-based hybrid quantum neural networks for remote sensing imagery classification. IEEE Journal of Selected Topics in Applied Earth Observations and Remote Sensing, 15, 565-580.\n",
    "- Zaidenberg, D. A., Sebastianelli, A., Spiller, D., Le Saux, B., & Ullo, S. L. (2021, July). Advantages and bottlenecks of quantum machine learning for remote sensing. In 2021 IEEE International Geoscience and Remote Sensing Symposium IGARSS (pp. 5680-5683). IEEE.\n",
    "- Eurosat: A novel dataset and deep learning benchmark for land use and land cover classification. Patrick Helber, Benjamin Bischke, Andreas Dengel, Damian Borth. IEEE Journal of Selected Topics in Applied Earth Observations and Remote Sensing, 2019.\n",
    "- Introducing EuroSAT: A Novel Dataset and Deep Learning Benchmark for Land Use and Land Cover Classification. Patrick Helber, Benjamin Bischke, Andreas Dengel. 2018 IEEE International Geoscience and Remote Sensing Symposium, 2018.\n",
    "- https://qiskit.org/documentation/machine-learning/tutorials/index.html\n",
    "- https://pennylane.ai/qml/demos_qml.html"
   ]
  },
  {
   "cell_type": "markdown",
   "id": "fcc3bdb4",
   "metadata": {},
   "source": [
    "# 1. Clone the base code\n",
    "\n",
    "Basic functions are wrapped in seprated files to keep the notebook clean. Feel free to explore the code."
   ]
  },
  {
   "cell_type": "code",
   "execution_count": null,
   "id": "0a7c4209",
   "metadata": {},
   "outputs": [],
   "source": [
    "import sys\n",
    "!rm -r /content/qml4eo_tutorial_qiskit\n",
    "!git clone https://github.com/alessandrosebastianelli/qml4eo_tutorial_qiskit.git\n",
    "if '/content/qml4eo_tutorial_qiskit' not in sys.path: sys.path.append('/content/qml4eo_tutorial_qiskit')"
   ]
  },
  {
   "cell_type": "markdown",
   "id": "f9d28a4e",
   "metadata": {},
   "source": [
    "# 2. Install missing requirements"
   ]
  },
  {
   "cell_type": "markdown",
   "id": "ca813583",
   "metadata": {},
   "source": [
    "AI-related"
   ]
  },
  {
   "cell_type": "code",
   "execution_count": null,
   "id": "c207d5b3",
   "metadata": {},
   "outputs": [],
   "source": [
    "!pip install -r /content/qml4eo_tutorial_qiskit/requirements.txt -q"
   ]
  },
  {
   "cell_type": "markdown",
   "id": "07e7088a",
   "metadata": {},
   "source": [
    "EO-related"
   ]
  },
  {
   "cell_type": "code",
   "execution_count": null,
   "id": "b8c2e3a6",
   "metadata": {},
   "outputs": [],
   "source": [
    "!pip install --upgrade pyosv"
   ]
  },
  {
   "cell_type": "markdown",
   "id": "e8cecbd5",
   "metadata": {},
   "source": [
    "QC-related"
   ]
  },
  {
   "cell_type": "code",
   "execution_count": null,
   "id": "1ef4f35a",
   "metadata": {},
   "outputs": [],
   "source": [
    "!pip install -q qiskit-machine-learning==0.6.0"
   ]
  },
  {
   "cell_type": "code",
   "execution_count": null,
   "id": "ec3a913b",
   "metadata": {},
   "outputs": [],
   "source": [
    "from pytorch_lightning.callbacks import ModelCheckpoint\n",
    "import matplotlib.pyplot as plt\n",
    "import pytorch_lightning as pl\n",
    "import numpy as np\n",
    "import os\n",
    "\n",
    "from hybrid_model import *\n",
    "from torch_loader import EuroSATDataModule\n",
    "\n",
    "torch.multiprocessing.set_start_method('spawn')  \n",
    "torch.set_float32_matmul_precision('high')"
   ]
  },
  {
   "cell_type": "markdown",
   "id": "c40ed062",
   "metadata": {},
   "source": [
    "# 3. Download the dataset\n",
    "\n",
    "In this study, we address the challenge of land use and land cover classification using Sentinel-2 satellite images. The Sentinel-2 satellite images are openly and freely accessible provided in the Earth observation program Copernicus. We present a novel dataset based on Sentinel-2 satellite images covering 13 spectral bands and consisting out of 10 classes with in total 27,000 labeled and geo-referenced images. We provide benchmarks for this novel dataset with its spectral bands using state-of-the-art deep Convolutional Neural Network (CNNs). With the proposed novel dataset, we achieved an overall classification accuracy of 98.57%. The resulting classification system opens a gate towards a number of Earth observation applications. We demonstrate how this classification system can be used for detecting land use and land cover changes and how it can assist in improving geographical maps.\n",
    "\n",
    "Get more information [here](https://github.com/phelber/EuroSAT).\n",
    "\n",
    "![](https://github.com/phelber/EuroSAT/blob/master/eurosat_overview_small.jpg?raw=true)"
   ]
  },
  {
   "cell_type": "markdown",
   "id": "5686785e",
   "metadata": {},
   "source": [
    "The following snippet will download the RGB version of EuroSAT and slit it in train/validation/test sub-datasets."
   ]
  },
  {
   "cell_type": "code",
   "execution_count": null,
   "id": "3e18d70e",
   "metadata": {},
   "outputs": [],
   "source": [
    "!bash /content/qml4eo_tutorial_qiskit/download_data.sh"
   ]
  },
  {
   "cell_type": "markdown",
   "id": "721b3b9c",
   "metadata": {},
   "source": [
    "# 4. Load data"
   ]
  },
  {
   "cell_type": "code",
   "execution_count": null,
   "id": "d36263af",
   "metadata": {},
   "outputs": [],
   "source": [
    "\n",
    "# This is the full list of classes in EuroSAT\n",
    "classes = ['AnnualCrop', 'Forest', 'HerbaceousVegetation', 'Highway', 'Industrial', 'Pasture','PermanentCrop', 'Residential', 'River', 'SeaLake']\n",
    "\n",
    "# For simplicty we will reduce them to 2\n",
    "classes = ['Forest', 'Highway']\n",
    "\n",
    "data_module = EuroSATDataModule(\n",
    "        whitelist_classes = classes,\n",
    "        batch_size        = 16, \n",
    "        bands             = [3,2,1],\n",
    "        num_workers       = 4,\n",
    ")"
   ]
  },
  {
   "cell_type": "markdown",
   "id": "6eb9afa3",
   "metadata": {},
   "source": [
    "## 4.1 Plot some data"
   ]
  },
  {
   "cell_type": "code",
   "execution_count": null,
   "id": "485e0d73",
   "metadata": {},
   "outputs": [],
   "source": [
    "loader = data_module.setup().train_dataloader()\n",
    "\n",
    "x, y = next(iter(loader))\n",
    "\n",
    "fig, axes = plt.subplots(nrows=4, ncols=4)\n",
    "axes = axes.flatten()\n",
    "\n",
    "\n",
    "x = x.cpu().detach().numpy()\n",
    "x = np.moveaxis(x, 1, -1)\n",
    "\n",
    "\n",
    "for i, ax in enumerate(axes):\n",
    "    ax.imshow(x[i,...])\n",
    "    ax.axis(False)\n",
    "\n",
    "fig.tight_layout()\n",
    "plt.show()\n"
   ]
  },
  {
   "cell_type": "markdown",
   "id": "236caeb6",
   "metadata": {},
   "source": [
    "# 5. Run Hybrid model"
   ]
  },
  {
   "cell_type": "code",
   "execution_count": null,
   "id": "788b0c79",
   "metadata": {},
   "outputs": [],
   "source": [
    "network = LightningAlexNetModule(n_qubits=4, num_classes=10)\n",
    "log_name = 'hybrid_model'\n",
    "\n",
    "tb_logger   = pl.loggers.TensorBoardLogger(os.path.join('lightning_logs','classifiers'), name=log_name)\n",
    "\n",
    "checkpoint_callback = ModelCheckpoint(\n",
    "    dirpath=os.path.join('saved_models','classifiers'),\n",
    "    filename=log_name,\n",
    "    monitor='val_loss',\n",
    "    save_top_k=1,\n",
    "    mode='min',\n",
    ")\n",
    "\n",
    "# Instantiate Trainer\n",
    "trainer = pl.Trainer(max_epochs=30, callbacks=[checkpoint_callback], logger=tb_logger)\n",
    "\n",
    "# Train the model\n",
    "trainer.fit(network, data_module)"
   ]
  }
 ],
 "metadata": {
  "kernelspec": {
   "display_name": "torch-gpu",
   "language": "python",
   "name": "python3"
  },
  "language_info": {
   "name": "python",
   "version": "3.11.5"
  }
 },
 "nbformat": 4,
 "nbformat_minor": 5
}
